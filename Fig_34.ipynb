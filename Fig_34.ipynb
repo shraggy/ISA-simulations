{
 "cells": [
  {
   "cell_type": "code",
   "execution_count": null,
   "id": "f13afa2c-0a76-49cf-8b9b-8d28bcc60fdc",
   "metadata": {},
   "outputs": [],
   "source": [
    "# The C2QA package is currently not published to PyPI.\n",
    "# To use the package locally, add the C2QA repository's root folder to the path prior to importing c2qa.\n",
    "import os\n",
    "import sys\n",
    "module_path = os.path.abspath(os.path.join(\"/Users/kevinsmith/Documents/GitHub/c2qa-qiskit\"))\n",
    "if module_path not in sys.path:\n",
    "    sys.path.append(module_path)\n",
    "    \n",
    "sys.path.insert(0, \"..\")\n",
    "\n",
    "from qutip import *\n",
    "import numpy as np\n",
    "import matplotlib.pyplot as plt\n",
    "import c2qa\n",
    "from qiskit import *"
   ]
  },
  {
   "cell_type": "code",
   "execution_count": 4,
   "id": "0f86dc75-6346-48a8-abdf-4ffc3940d1e3",
   "metadata": {},
   "outputs": [],
   "source": [
    "def cDj(delta,j,n):\n",
    "    # Returns a unitary that displaces a mode conditioned on the jth qubit, by an amount delta*2**j\n",
    "    qubit_proj = tensor([identity(2)]*j + [basis(2,1)*basis(2,1).dag()] + [identity(2)]*(n-j-1))\n",
    "    return tensor(qubit_proj,displace(cutoff,delta*(2**j))) + tensor([identity(2)]*j + [basis(2,0)*basis(2,0).dag()] + [identity(2)]*(n-j-1) + [identity(cutoff)])\n",
    "\n",
    "def D(alpha,n):\n",
    "    # Returns a unitary that displaces a mode conditioned on the jth qubit, by an amount delta*2**j\n",
    "    return tensor([identity(2)]*n +[displace(cutoff,alpha)])\n",
    "\n",
    "def disentangler(n):\n",
    "    # Exact non-unitary disentangler (the thing we approximate with QSP)\n",
    "    state_transfer = basis(2,0)*basis(2,0).dag() + basis(2,0)*basis(2,1).dag()\n",
    "    return tensor([state_transfer]*n + [identity(cutoff)])\n",
    "\n",
    "def qsp_disentangler(qubit_ind, num_qubits, phases, delta=1.2):\n",
    "    import scipy\n",
    "    import pdb\n",
    "    from qutip.qip.operations.gates import s_gate\n",
    "    S = s_gate()\n",
    "    id = identity(2)\n",
    "    # pdb.set_trace()\n",
    "    angle_func = lambda x: np.arccos(3/4 + np.cos((x - 2**(qubit_ind-1) + 1/2)*np.pi/(delta*(2**qubit_ind)))/4)\n",
    "    # angle_func = lambda x: 3/4 + np.cos((x - 2**(qubit_ind-1) + 1/2)*np.pi/(delta*(2**qubit_ind)))/4\n",
    "    W_angle = Qobj(scipy.linalg.funm(x.full(),angle_func),dims=x.dims)\n",
    "    \n",
    "    W = (1j*tensor([id]*qubit_ind + [sigmax()] + [id]*(num_qubits - qubit_ind - 1) + [W_angle])).expm()\n",
    "    \n",
    "    def qubit_Zrot(angle):\n",
    "        return (1j*angle*tensor([id]*qubit_ind + [sigmaz()] + [id]*(num_qubits - qubit_ind - 1) + [identity(cutoff)])).expm()\n",
    "    \n",
    "    # Carry out QSP sequence\n",
    "    U = qubit_Zrot(phases[0])\n",
    "    for j in range(1,len(phases)):\n",
    "        U = U*W*qubit_Zrot(phases[j])\n",
    "        \n",
    "    # Apply S gate to change from X to iY\n",
    "    S = tensor([id]*qubit_ind + [s_gate()] + [id]*(num_qubits - qubit_ind - 1) + [identity(cutoff)])\n",
    "    U = S*U*S.dag()\n",
    "        \n",
    "    return U\n",
    "\n",
    "def qsp_disentangler_qiskit(qubit_ind, num_qubits, phases, delta=1.2):\n",
    "    import scipy\n",
    "    import pdb\n",
    "    from qutip.qip.operations.gates import s_gate\n",
    "    S = s_gate()\n",
    "    id = identity(2)\n",
    "    \n",
    "    angle_func = lambda x: np.arccos(3/4 + np.cos((x - 2**(qubit_ind-1) + 1/2)*np.pi/(delta*(2**qubit_ind)))/4)\n",
    "    # angle_func = lambda x: 3/4 + np.cos((x - 2**(qubit_ind-1) + 1/2)*np.pi/(delta*(2**qubit_ind)))/4\n",
    "    W_angle = Qobj(scipy.linalg.funm(x.full(),angle_func),dims=x.dims)\n",
    "    \n",
    "    W = (1j*tensor([sigmax()] + [W_angle])).expm()\n",
    "    \n",
    "    def qubit_Zrot(angle):\n",
    "        return (1j*angle*tensor([sigmaz()] + [identity(cutoff)])).expm()\n",
    "    \n",
    "    # Carry out QSP sequence\n",
    "    U = qubit_Zrot(phases[0])\n",
    "    # pdb.set_trace()\n",
    "    for j in range(1,len(phases)):\n",
    "        U = U*W*qubit_Zrot(phases[j])\n",
    "        \n",
    "    # Apply S gate to change from X to iY\n",
    "    S = tensor([s_gate()] + [identity(cutoff)])\n",
    "    U = S*U*S.dag()\n",
    "        \n",
    "    return U.full()\n",
    "\n",
    "def qsp_disentangler_x(x, qubit_ind, num_qubits, phases, delta=1.2):\n",
    "    import scipy\n",
    "    id = identity(2)\n",
    "    \n",
    "    angle_func = lambda x: np.arccos(3/4 + np.cos((x - 2**(qubit_ind-1) + 1/2)*np.pi/(delta*(2**qubit_ind)))/4)\n",
    "    # angle_func = lambda x: 3/4 + np.cos((x - 2**(qubit_ind-1) + 1/2)*np.pi/(delta*(2**qubit_ind)))/4\n",
    "    W_angle = angle_func(x)\n",
    "    \n",
    "    W = (1j*W_angle*tensor([id]*qubit_ind + [sigmax()] + [id]*(num_qubits - qubit_ind - 1))).expm()\n",
    "    \n",
    "    def qubit_Zrot(angle):\n",
    "        return (1j*angle*tensor([id]*qubit_ind + [sigmaz()] + [id]*(num_qubits - qubit_ind - 1))).expm()\n",
    "    \n",
    "    # Carry out QSP sequence\n",
    "    U = qubit_Zrot(phases[0])\n",
    "    for j in range(1,len(phases)):\n",
    "        U = U*W*qubit_Zrot(phases[j])\n",
    "    return U\n",
    "\n",
    "def x_to_y(x, qubit_ind, delta=1.2):\n",
    "    return 3/4 + np.cos((x - 2**(qubit_ind-1) + 1/2)*np.pi/(delta*(2**qubit_ind)))/4\n",
    "\n",
    "def qsp_disentangler_y(y, qubit_ind, num_qubits, phases, delta=1.2):\n",
    "    import scipy\n",
    "    id = identity(2)\n",
    "    \n",
    "    W_angle = np.arccos(y)\n",
    "    \n",
    "    W = (1j*W_angle*tensor([id]*qubit_ind + [sigmax()] + [id]*(num_qubits - qubit_ind - 1))).expm()\n",
    "    \n",
    "    def qubit_Zrot(angle):\n",
    "        return (1j*angle*tensor([id]*qubit_ind + [sigmaz()] + [id]*(num_qubits - qubit_ind - 1))).expm()\n",
    "    \n",
    "    # Carry out QSP sequence\n",
    "    U = qubit_Zrot(phases[0])\n",
    "    for j in range(1,len(phases)):\n",
    "        U = U*W*qubit_Zrot(phases[j])\n",
    "    return U"
   ]
  },
  {
   "cell_type": "code",
   "execution_count": 5,
   "id": "a958302d-5883-4636-b8ab-887ec1369407",
   "metadata": {},
   "outputs": [],
   "source": [
    "from qutip.qip.operations.gates import s_gate\n",
    "S = s_gate()"
   ]
  },
  {
   "cell_type": "code",
   "execution_count": null,
   "id": "6cd93bb6-83cf-462f-ab23-dbe0e51a36b2",
   "metadata": {},
   "outputs": [
    {
     "data": {
      "text/html": [
       "<div>\n",
       "<style scoped>\n",
       "    .dataframe tbody tr th:only-of-type {\n",
       "        vertical-align: middle;\n",
       "    }\n",
       "\n",
       "    .dataframe tbody tr th {\n",
       "        vertical-align: top;\n",
       "    }\n",
       "\n",
       "    .dataframe thead th {\n",
       "        text-align: right;\n",
       "    }\n",
       "</style>\n",
       "<table border=\"1\" class=\"dataframe\">\n",
       "  <thead>\n",
       "    <tr style=\"text-align: right;\">\n",
       "      <th></th>\n",
       "      <th>d=60, w=0.24, epsilon = 0.017</th>\n",
       "      <th>d=60, w=0.2, epsilon = 0.02</th>\n",
       "    </tr>\n",
       "  </thead>\n",
       "  <tbody>\n",
       "    <tr>\n",
       "      <th>0</th>\n",
       "      <td>-2.348647</td>\n",
       "      <td>-1.073167</td>\n",
       "    </tr>\n",
       "    <tr>\n",
       "      <th>1</th>\n",
       "      <td>0.944012</td>\n",
       "      <td>3.861488</td>\n",
       "    </tr>\n",
       "    <tr>\n",
       "      <th>2</th>\n",
       "      <td>2.257544</td>\n",
       "      <td>-0.542792</td>\n",
       "    </tr>\n",
       "    <tr>\n",
       "      <th>3</th>\n",
       "      <td>1.827335</td>\n",
       "      <td>3.533571</td>\n",
       "    </tr>\n",
       "    <tr>\n",
       "      <th>4</th>\n",
       "      <td>-0.896501</td>\n",
       "      <td>-0.393472</td>\n",
       "    </tr>\n",
       "    <tr>\n",
       "      <th>...</th>\n",
       "      <td>...</td>\n",
       "      <td>...</td>\n",
       "    </tr>\n",
       "    <tr>\n",
       "      <th>56</th>\n",
       "      <td>-3.391499</td>\n",
       "      <td>0.156530</td>\n",
       "    </tr>\n",
       "    <tr>\n",
       "      <th>57</th>\n",
       "      <td>-2.005372</td>\n",
       "      <td>-0.533215</td>\n",
       "    </tr>\n",
       "    <tr>\n",
       "      <th>58</th>\n",
       "      <td>0.505401</td>\n",
       "      <td>-0.460462</td>\n",
       "    </tr>\n",
       "    <tr>\n",
       "      <th>59</th>\n",
       "      <td>2.822924</td>\n",
       "      <td>0.611304</td>\n",
       "    </tr>\n",
       "    <tr>\n",
       "      <th>60</th>\n",
       "      <td>-3.075373</td>\n",
       "      <td>2.309569</td>\n",
       "    </tr>\n",
       "  </tbody>\n",
       "</table>\n",
       "<p>61 rows × 2 columns</p>\n",
       "</div>"
      ],
      "text/plain": [
       "    d=60, w=0.24, epsilon = 0.017  d=60, w=0.2, epsilon = 0.02\n",
       "0                       -2.348647                    -1.073167\n",
       "1                        0.944012                     3.861488\n",
       "2                        2.257544                    -0.542792\n",
       "3                        1.827335                     3.533571\n",
       "4                       -0.896501                    -0.393472\n",
       "..                            ...                          ...\n",
       "56                      -3.391499                     0.156530\n",
       "57                      -2.005372                    -0.533215\n",
       "58                       0.505401                    -0.460462\n",
       "59                       2.822924                     0.611304\n",
       "60                      -3.075373                     2.309569\n",
       "\n",
       "[61 rows x 2 columns]"
      ]
     },
     "execution_count": 6,
     "metadata": {},
     "output_type": "execute_result"
    }
   ],
   "source": [
    "import xlrd\n",
    "import pandas as pd\n",
    "\n",
    "phases_df = pd.read_excel('StepFunctionPhases.xlsx',usecols='D, E',skiprows=[0,1,2,3])\n",
    "phases = phases_df.to_numpy()\n",
    "phases_df"
   ]
  },
  {
   "cell_type": "markdown",
   "id": "63e0dad1-f3ae-42d4-8d6d-9139e466b432",
   "metadata": {},
   "source": [
    "## GHZ"
   ]
  },
  {
   "cell_type": "code",
   "execution_count": 36,
   "id": "a840f208-38bc-4c9c-80ef-44ed5bdee0f1",
   "metadata": {},
   "outputs": [
    {
     "name": "stderr",
     "output_type": "stream",
     "text": [
      "/Users/kevinsmith/miniconda/envs/quantum/lib/python3.9/site-packages/scipy/sparse/_base.py:1034: SparseEfficiencyWarning: Constructing a DIA matrix with 255 diagonals is inefficient\n",
      "  return self.tocoo(copy=copy).todia(copy=False)\n"
     ]
    }
   ],
   "source": [
    "# Now carry it out in Bosonic Qiskit\n",
    "# Qutip state transfer\n",
    "num_qubits_per_qumode = 8#8\n",
    "cutoff = 2**num_qubits_per_qumode\n",
    "a = destroy(cutoff)\n",
    "x = (a + a.dag())/2\n",
    "\n",
    "# Shorthand for the initial state accepted by the code below\n",
    "# Takes a list of lists, where the first list includes amplitudes (that do not need to be normalized),\n",
    "# and the second are the computational basis states.\n",
    "qstate = [[1,1],['000','111']]\n",
    "\n",
    "# Initialize starting state based on qstate\n",
    "num_qubits = len(qstate[1][0])\n",
    "\n",
    "# Parameters\n",
    "w = 0.2 # QSP width -- do not change this as it matches the QSP parameters\n",
    "delta = 8/(2**(num_qubits)) # spacing between eigenstates\n",
    "x_width = delta*2**(num_qubits) # roughly the total x-width in phase-space\n",
    "sigma = np.pi/(2*x_width) # a reasonable choice for the squeezing to make the function \"square\" in phase-space\n",
    "\n",
    "# Compute statevector for qubit state\n",
    "# Now initialize the composite state and normalize\n",
    "psi0 = 0\n",
    "for i in range(0,len(qstate[0])):\n",
    "    psi0 += qstate[0][i]*tensor([basis(2,int(i)) for i in qstate[1][i][::-1]])\n",
    "psi0 = psi0.unit()\n",
    "    \n",
    "# Initialize circuit\n",
    "qmr = c2qa.QumodeRegister(num_qumodes=1, num_qubits_per_qumode=num_qubits_per_qumode)\n",
    "qbr = QuantumRegister(num_qubits)\n",
    "circuit = c2qa.CVCircuit(qmr, qbr)\n",
    "\n",
    "circuit.initialize([a[0] for a in psi0],qbr)\n",
    "circuit.draw()\n",
    "\n",
    "z = -np.log(2*sigma)\n",
    "circuit.cv_sq(z,qmr[0])\n",
    "\n",
    "for j in range(0,num_qubits):\n",
    "    circuit.cv_c_d(0,qmr[0],qbr[j],beta=delta*2**j)\n",
    "\n",
    "for j in range(0,num_qubits):\n",
    "    unitary_matrix = qsp_disentangler_qiskit(j, num_qubits, phases[:,1], delta=delta)\n",
    "    circuit.unitary(unitary_matrix, qmr[0] + [qbr[j]], label='QSP Disentangler')\n",
    "    \n",
    "circuit.cv_d((1-2**num_qubits)*delta/2,qmr[0])\n",
    "\n",
    "stateop, _, _ = c2qa.util.simulate(circuit)\n",
    "\n",
    "\n",
    "###\n",
    "# Initialize starting state\n",
    "num_qubits = len(qstate[1][0])\n",
    "vacuum = basis(cutoff,0)\n",
    "\n",
    "psi0 = 0\n",
    "for i in range(0,len(qstate[0])):\n",
    "    psi0 += qstate[0][i]*tensor([basis(2,int(i)) for i in qstate[1][i][::-1]] + [vacuum])\n",
    "psi0 = psi0.unit()\n",
    "\n",
    "# squeezing parameter\n",
    "Usqueeze = tensor([identity(2)]*num_qubits + [squeeze(cutoff,z)])\n",
    "\n",
    "Ucd = 1\n",
    "for j in range(0,num_qubits):\n",
    "    Ucd = cDj(delta,j,num_qubits)*Ucd\n",
    "\n",
    "Dcenter = D((1-2**num_qubits)*delta/2,num_qubits)\n",
    "\n",
    "# change delta to pi/delta for readout.\n",
    "\n",
    "# First disentangle with the nonunitary exact disentangler\n",
    "psi_nu = (Dcenter*disentangler(num_qubits)*Ucd*Usqueeze*psi0).unit()\n",
    "rho_nu = ptrace(psi_nu,[num_qubits]).unit() # trace out qubits"
   ]
  },
  {
   "cell_type": "code",
   "execution_count": 37,
   "id": "797119cc-e94c-42de-8f97-b50d7dfc7fdd",
   "metadata": {},
   "outputs": [],
   "source": [
    "import matplotlib as mpl\n",
    "from matplotlib import cm\n",
    "\n",
    "xvec = np.linspace(-6,6,200)\n",
    "W = wigner(Qobj(np.array(stateop)), xvec, xvec, g=np.sqrt(2), method = 'clenshaw')\n",
    "# W = wigner(rho_nu, xvec, xvec, g=np.sqrt(2), method = 'clenshaw')"
   ]
  },
  {
   "cell_type": "code",
   "execution_count": 38,
   "id": "0d8122d4-bb50-4f90-89ea-dfd150557f8e",
   "metadata": {},
   "outputs": [
    {
     "data": {
      "image/png": "[encoded data removed]",
      "text/plain": [
       "<Figure size 800x400 with 1 Axes>"
      ]
     },
     "metadata": {},
     "output_type": "display_data"
    }
   ],
   "source": [
    "Wmap = wigner_cmap(W)\n",
    "fig, ax = plt.subplots(1, 1, figsize=(8, 4))\n",
    "plt1 = ax.contourf(xvec, xvec, W, 100, cmap=cm.RdBu_r, norm=mpl.colors.Normalize(-0.25, 0.25))\n",
    "ax.set_xlim([-6,6])\n",
    "ax.set_ylim([-6,6])\n",
    "ax.set_xlabel(r'$x$');\n",
    "ax.set_ylabel(r'$p$');\n",
    "# axes[0].legend()\n",
    "ax.set_aspect('equal', 'box')\n",
    "# plt.colorbar(plt1, ax = ax, use_gridspec=True)\n",
    "fig.tight_layout()\n",
    "plt.savefig('figures/GHZ.pdf',bbox_inches='tight')"
   ]
  },
  {
   "cell_type": "code",
   "execution_count": 39,
   "id": "6c4194a2-c784-42f2-876b-f995f632f7d3",
   "metadata": {},
   "outputs": [
    {
     "data": {
      "text/plain": [
       "0.9720504481371495"
      ]
     },
     "execution_count": 39,
     "metadata": {},
     "output_type": "execute_result"
    }
   ],
   "source": [
    "rho = c2qa.util.trace_out_qubits(circuit,stateop)\n",
    "fidelity(Qobj(rho,dims=rho_nu.dims),rho_nu)"
   ]
  },
  {
   "cell_type": "markdown",
   "id": "dc6f2e2a-9410-4c06-bf1f-7fad675ebe50",
   "metadata": {},
   "source": [
    "## |W>"
   ]
  },
  {
   "cell_type": "code",
   "execution_count": 40,
   "id": "b3cb8c9e-5620-4ae4-bf92-4503dedae5aa",
   "metadata": {},
   "outputs": [],
   "source": [
    "# Now carry it out in Bosonic Qiskit\n",
    "# Qutip state transfer\n",
    "\n",
    "qstate = [[1,1,1],['001','010','100']]\n",
    "\n",
    "\n",
    "# Initialize starting state based on qstate\n",
    "num_qubits = len(qstate[1][0])\n",
    "\n",
    "# Parameters\n",
    "w = 0.2 # QSP width -- do not change this as it matches the QSP parameters\n",
    "delta = 8/(2**(num_qubits)) # spacing between eigenstates\n",
    "x_width = delta*2**(num_qubits) # roughly the total x-width in phase-space\n",
    "sigma = np.pi/(2*x_width) # a reasonable choice for the squeezing to make the function \"square\" in phase-space\n",
    "\n",
    "# Compute statevector for qubit state\n",
    "# Now initialize the composite state and normalize\n",
    "psi0 = 0\n",
    "for i in range(0,len(qstate[0])):\n",
    "    psi0 += qstate[0][i]*tensor([basis(2,int(i)) for i in qstate[1][i][::-1]])\n",
    "psi0 = psi0.unit()\n",
    "    \n",
    "# Initialize circuit\n",
    "qmr = c2qa.QumodeRegister(num_qumodes=1, num_qubits_per_qumode=num_qubits_per_qumode)\n",
    "qbr = QuantumRegister(num_qubits)\n",
    "circuit = c2qa.CVCircuit(qmr, qbr)\n",
    "\n",
    "circuit.initialize([a[0] for a in psi0],qbr)\n",
    "circuit.draw()\n",
    "\n",
    "z = -np.log(2*sigma)\n",
    "circuit.cv_sq(z,qmr[0])\n",
    "\n",
    "for j in range(0,num_qubits):\n",
    "    circuit.cv_c_d(0,qmr[0],qbr[j],beta=delta*2**j)\n",
    "\n",
    "for j in range(0,num_qubits):\n",
    "    unitary_matrix = qsp_disentangler_qiskit(j, num_qubits, phases[:,1], delta=delta)\n",
    "    circuit.unitary(unitary_matrix, qmr[0] + [qbr[j]], label='QSP Disentangler')\n",
    "    \n",
    "circuit.cv_d(-4*delta/2,qmr[0])  \n",
    "\n",
    "stateop, _, _ = c2qa.util.simulate(circuit)\n",
    "\n",
    "###\n",
    "# Initialize starting state\n",
    "num_qubits = len(qstate[1][0])\n",
    "vacuum = basis(cutoff,0)\n",
    "\n",
    "psi0 = 0\n",
    "for i in range(0,len(qstate[0])):\n",
    "    psi0 += qstate[0][i]*tensor([basis(2,int(i)) for i in qstate[1][i][::-1]] + [vacuum])\n",
    "psi0 = psi0.unit()\n",
    "\n",
    "# squeezing parameter\n",
    "Usqueeze = tensor([identity(2)]*num_qubits + [squeeze(cutoff,z)])\n",
    "\n",
    "Ucd = 1\n",
    "for j in range(0,num_qubits):\n",
    "    Ucd = cDj(delta,j,num_qubits)*Ucd\n",
    "\n",
    "Dcenter = D(-4*delta/2,num_qubits)\n",
    "\n",
    "# change delta to pi/delta for readout.\n",
    "\n",
    "# First disentangle with the nonunitary exact disentangler\n",
    "psi_nu = (Dcenter*disentangler(num_qubits)*Ucd*Usqueeze*psi0).unit()\n",
    "rho_nu = ptrace(psi_nu,[num_qubits]).unit() # trace out qubits"
   ]
  },
  {
   "cell_type": "code",
   "execution_count": 41,
   "id": "59742c9a-aba7-4f43-b9c0-8dbaeb250703",
   "metadata": {},
   "outputs": [],
   "source": [
    "import matplotlib as mpl\n",
    "from matplotlib import cm\n",
    "\n",
    "W = wigner(Qobj(np.array(stateop)), xvec, xvec, g=np.sqrt(2), method = 'clenshaw')\n",
    "Wmap = wigner_cmap(W)"
   ]
  },
  {
   "cell_type": "code",
   "execution_count": 42,
   "id": "ed9de968-d472-49bf-9f2c-6f97183480d2",
   "metadata": {},
   "outputs": [
    {
     "data": {
      "image/png": "[encoded data removed]",
      "text/plain": [
       "<Figure size 800x400 with 1 Axes>"
      ]
     },
     "metadata": {},
     "output_type": "display_data"
    }
   ],
   "source": [
    "fig, ax = plt.subplots(1, 1, figsize=(8, 4))\n",
    "plt1 = ax.contourf(xvec, xvec, W, 100, cmap=cm.RdBu_r, norm=mpl.colors.Normalize(-0.25, 0.25))\n",
    "ax.set_xlim([-6,6])\n",
    "ax.set_ylim([-6,6])\n",
    "ax.set_xlabel(r'$x$');\n",
    "ax.set_ylabel(r'$p$');\n",
    "# axes[0].legend()\n",
    "ax.set_aspect('equal', 'box')\n",
    "# plt.colorbar(plt1, ax = ax, use_gridspec=True)\n",
    "fig.tight_layout()\n",
    "plt.savefig('figures/W.pdf',bbox_inches='tight')"
   ]
  },
  {
   "cell_type": "code",
   "execution_count": 178,
   "id": "e8703a31-2cac-414d-b176-7f55395de56d",
   "metadata": {},
   "outputs": [
    {
     "data": {
      "text/plain": [
       "0.981983474139131"
      ]
     },
     "execution_count": 178,
     "metadata": {},
     "output_type": "execute_result"
    }
   ],
   "source": [
    "rho = c2qa.util.trace_out_qubits(circuit,stateop)\n",
    "fidelity(Qobj(rho,dims=rho_nu.dims),rho_nu)"
   ]
  },
  {
   "cell_type": "code",
   "execution_count": 190,
   "id": "22fa4a2a-83ae-48fb-a3a8-a3c133c11083",
   "metadata": {},
   "outputs": [
    {
     "data": {
      "text/plain": [
       "1.0"
      ]
     },
     "execution_count": 190,
     "metadata": {},
     "output_type": "execute_result"
    }
   ],
   "source": [
    "delta"
   ]
  },
  {
   "cell_type": "markdown",
   "id": "793c14ed-6306-43e8-8185-98ae525563d0",
   "metadata": {},
   "source": [
    "## |+++>"
   ]
  },
  {
   "cell_type": "code",
   "execution_count": 43,
   "id": "0783a0ee-2f07-45e9-86ba-a7f55622d136",
   "metadata": {},
   "outputs": [],
   "source": [
    "# Shorthand for the initial state accepted by the code below\n",
    "# Takes a list of lists, where the first list includes amplitudes (that do not need to be normalized),\n",
    "# and the second are the computational basis states.\n",
    "qstate = [[1,1,1,1,1,1,1,1],['000','001','010','011','100','101','110','111']]\n",
    "\n",
    "\n",
    "# Initialize starting state based on qstate\n",
    "num_qubits = len(qstate[1][0])\n",
    "\n",
    "# Parameters\n",
    "w = 0.2 # QSP width -- do not change this as it matches the QSP parameters\n",
    "delta = 8/(2**(num_qubits)) # spacing between eigenstates\n",
    "x_width = delta*2**(num_qubits) # roughly the total x-width in phase-space\n",
    "sigma = np.pi/(2*x_width) # a reasonable choice for the squeezing to make the function \"square\" in phase-space\n",
    "\n",
    "# Compute statevector for qubit state\n",
    "# Now initialize the composite state and normalize\n",
    "psi0 = 0\n",
    "for i in range(0,len(qstate[0])):\n",
    "    psi0 += qstate[0][i]*tensor([basis(2,int(i)) for i in qstate[1][i][::-1]])\n",
    "psi0 = psi0.unit()\n",
    "    \n",
    "# Initialize circuit\n",
    "qmr = c2qa.QumodeRegister(num_qumodes=1, num_qubits_per_qumode=num_qubits_per_qumode)\n",
    "qbr = QuantumRegister(num_qubits)\n",
    "circuit = c2qa.CVCircuit(qmr, qbr)\n",
    "\n",
    "circuit.initialize([a[0] for a in psi0],qbr)\n",
    "circuit.draw()\n",
    "\n",
    "z = -np.log(2*sigma)\n",
    "circuit.cv_sq(z,qmr[0])\n",
    "\n",
    "for j in range(0,num_qubits):\n",
    "    circuit.cv_c_d(0,qmr[0],qbr[j],beta=delta*2**j)\n",
    "\n",
    "for j in range(0,num_qubits):\n",
    "    unitary_matrix = qsp_disentangler_qiskit(j, num_qubits, phases[:,1], delta=delta)\n",
    "    circuit.unitary(unitary_matrix, qmr[0] + [qbr[j]], label='QSP Disentangler')\n",
    "    \n",
    "circuit.cv_d((1-2**num_qubits)*delta/2,qmr[0])\n",
    "\n",
    "stateop, _, _ = c2qa.util.simulate(circuit)\n",
    "\n",
    "\n",
    "###\n",
    "# Initialize starting state\n",
    "num_qubits = len(qstate[1][0])\n",
    "vacuum = basis(cutoff,0)\n",
    "\n",
    "psi0 = 0\n",
    "for i in range(0,len(qstate[0])):\n",
    "    psi0 += qstate[0][i]*tensor([basis(2,int(i)) for i in qstate[1][i][::-1]] + [vacuum])\n",
    "psi0 = psi0.unit()\n",
    "\n",
    "# squeezing parameter\n",
    "Usqueeze = tensor([identity(2)]*num_qubits + [squeeze(cutoff,z)])\n",
    "\n",
    "Ucd = 1\n",
    "for j in range(0,num_qubits):\n",
    "    Ucd = cDj(delta,j,num_qubits)*Ucd\n",
    "\n",
    "Dcenter = D((1-2**num_qubits)*delta/2,num_qubits)\n",
    "\n",
    "# change delta to pi/delta for readout.\n",
    "\n",
    "# First disentangle with the nonunitary exact disentangler\n",
    "psi_nu = (Dcenter*disentangler(num_qubits)*Ucd*Usqueeze*psi0).unit()\n",
    "rho_nu = ptrace(psi_nu,[num_qubits]).unit() # trace out qubits"
   ]
  },
  {
   "cell_type": "code",
   "execution_count": 44,
   "id": "fc08c234-179b-4fb5-80b1-def0a619e48f",
   "metadata": {},
   "outputs": [],
   "source": [
    "import matplotlib as mpl\n",
    "from matplotlib import cm\n",
    "\n",
    "W = wigner(Qobj(np.array(stateop)), xvec, xvec, g=np.sqrt(2), method = 'clenshaw')\n",
    "Wmap = wigner_cmap(W)"
   ]
  },
  {
   "cell_type": "code",
   "execution_count": 45,
   "id": "a658bdef-6bbd-40a9-8cd5-d8f272591e3d",
   "metadata": {},
   "outputs": [
    {
     "data": {
      "image/png": "[encoded data removed]",
      "text/plain": [
       "<Figure size 800x400 with 1 Axes>"
      ]
     },
     "metadata": {},
     "output_type": "display_data"
    }
   ],
   "source": [
    "fig, ax = plt.subplots(1, 1, figsize=(8, 4))\n",
    "plt1 = ax.contourf(xvec, xvec, W, 100, cmap=cm.RdBu_r, norm=mpl.colors.Normalize(-0.25, 0.25))\n",
    "ax.set_xlim([-6,6])\n",
    "ax.set_ylim([-6,6])\n",
    "ax.set_xlabel(r'$x$');\n",
    "ax.set_ylabel(r'$p$');\n",
    "# axes[0].legend()\n",
    "ax.set_aspect('equal', 'box')\n",
    "# plt.colorbar(plt1, ax = ax, use_gridspec=True)\n",
    "fig.tight_layout()\n",
    "plt.savefig('figures/ppp.pdf',bbox_inches='tight')"
   ]
  },
  {
   "cell_type": "code",
   "execution_count": 183,
   "id": "c12211ac-ab2e-4a63-826a-7347fa437312",
   "metadata": {},
   "outputs": [
    {
     "data": {
      "text/plain": [
       "0.980425089097158"
      ]
     },
     "execution_count": 183,
     "metadata": {},
     "output_type": "execute_result"
    }
   ],
   "source": [
    "rho = c2qa.util.trace_out_qubits(circuit,stateop)\n",
    "fidelity(Qobj(rho,dims=rho_nu.dims),rho_nu)"
   ]
  },
  {
   "cell_type": "markdown",
   "id": "46f5868b-68c8-4ad7-acfb-f6ab293f70fb",
   "metadata": {},
   "source": [
    "## |000>"
   ]
  },
  {
   "cell_type": "code",
   "execution_count": 46,
   "id": "99fa600c-f095-4d1e-9f8e-4913b8502c53",
   "metadata": {},
   "outputs": [],
   "source": [
    "# Shorthand for the initial state accepted by the code below\n",
    "# Takes a list of lists, where the first list includes amplitudes (that do not need to be normalized),\n",
    "# and the second are the computational basis states.\n",
    "qstate = [[1],['000']]\n",
    "\n",
    "\n",
    "# Initialize starting state based on qstate\n",
    "num_qubits = len(qstate[1][0])\n",
    "\n",
    "# Parameters\n",
    "w = 0.2 # QSP width -- do not change this as it matches the QSP parameters\n",
    "delta = 8/(2**(num_qubits)) # spacing between eigenstates\n",
    "x_width = delta*2**(num_qubits) # roughly the total x-width in phase-space\n",
    "sigma = np.pi/(2*x_width) # a reasonable choice for the squeezing to make the function \"square\" in phase-space\n",
    "\n",
    "# Compute statevector for qubit state\n",
    "# Now initialize the composite state and normalize\n",
    "psi0 = 0\n",
    "for i in range(0,len(qstate[0])):\n",
    "    psi0 += qstate[0][i]*tensor([basis(2,int(i)) for i in qstate[1][i][::-1]])\n",
    "psi0 = psi0.unit()\n",
    "    \n",
    "# Initialize circuit\n",
    "qmr = c2qa.QumodeRegister(num_qumodes=1, num_qubits_per_qumode=num_qubits_per_qumode)\n",
    "qbr = QuantumRegister(num_qubits)\n",
    "circuit = c2qa.CVCircuit(qmr, qbr)\n",
    "\n",
    "circuit.initialize([a[0] for a in psi0],qbr)\n",
    "circuit.draw()\n",
    "\n",
    "z = -np.log(2*sigma)\n",
    "circuit.cv_sq(z,qmr[0])\n",
    "\n",
    "for j in range(0,num_qubits):\n",
    "    circuit.cv_c_d(0,qmr[0],qbr[j],beta=delta*2**j)\n",
    "\n",
    "for j in range(0,num_qubits):\n",
    "    unitary_matrix = qsp_disentangler_qiskit(j, num_qubits, phases[:,1], delta=delta)\n",
    "    circuit.unitary(unitary_matrix, qmr[0] + [qbr[j]], label='QSP Disentangler')\n",
    "    \n",
    "circuit.cv_d(0*delta/2,qmr[0])\n",
    "\n",
    "stateop, _, _ = c2qa.util.simulate(circuit)\n",
    "\n",
    "\n",
    "###\n",
    "# Initialize starting state\n",
    "num_qubits = len(qstate[1][0])\n",
    "vacuum = basis(cutoff,0)\n",
    "\n",
    "psi0 = 0\n",
    "for i in range(0,len(qstate[0])):\n",
    "    psi0 += qstate[0][i]*tensor([basis(2,int(i)) for i in qstate[1][i][::-1]] + [vacuum])\n",
    "psi0 = psi0.unit()\n",
    "\n",
    "# squeezing parameter\n",
    "Usqueeze = tensor([identity(2)]*num_qubits + [squeeze(cutoff,z)])\n",
    "\n",
    "Ucd = 1\n",
    "for j in range(0,num_qubits):\n",
    "    Ucd = cDj(delta,j,num_qubits)*Ucd\n",
    "\n",
    "Dcenter = D(0*delta/2,num_qubits)\n",
    "\n",
    "# change delta to pi/delta for readout.\n",
    "\n",
    "# First disentangle with the nonunitary exact disentangler\n",
    "psi_nu = (Dcenter*disentangler(num_qubits)*Ucd*Usqueeze*psi0).unit()\n",
    "rho_nu = ptrace(psi_nu,[num_qubits]).unit() # trace out qubits"
   ]
  },
  {
   "cell_type": "code",
   "execution_count": 47,
   "id": "b4cabb8a-32b1-421b-a485-85fc14f3be3b",
   "metadata": {},
   "outputs": [],
   "source": [
    "import matplotlib as mpl\n",
    "from matplotlib import cm\n",
    "\n",
    "W = wigner(Qobj(np.array(stateop)), xvec, xvec, g=np.sqrt(2), method = 'clenshaw')\n",
    "Wmap = wigner_cmap(W)"
   ]
  },
  {
   "cell_type": "code",
   "execution_count": 48,
   "id": "17aae68f-98a3-4d58-b628-498e858cc596",
   "metadata": {},
   "outputs": [
    {
     "data": {
      "image/png": "[encoded data removed]",
      "text/plain": [
       "<Figure size 800x400 with 1 Axes>"
      ]
     },
     "metadata": {},
     "output_type": "display_data"
    }
   ],
   "source": [
    "fig, ax = plt.subplots(1, 1, figsize=(8, 4))\n",
    "plt1 = ax.contourf(xvec, xvec, W, 100, cmap=cm.RdBu_r, norm=mpl.colors.Normalize(-0.25, 0.25))\n",
    "ax.set_xlim([-6,6])\n",
    "ax.set_ylim([-6,6])\n",
    "ax.set_xlabel(r'$x$');\n",
    "ax.set_ylabel(r'$p$');\n",
    "# axes[0].legend()\n",
    "ax.set_aspect('equal', 'box')\n",
    "# plt.colorbar(plt1, ax = ax, use_gridspec=True)\n",
    "fig.tight_layout()\n",
    "plt.savefig('figures/000.pdf',bbox_inches='tight')"
   ]
  },
  {
   "cell_type": "code",
   "execution_count": 187,
   "id": "3aba4e48-934a-4b0c-a827-3f73ca9094f4",
   "metadata": {},
   "outputs": [
    {
     "data": {
      "text/plain": [
       "0.9698224732932695"
      ]
     },
     "execution_count": 187,
     "metadata": {},
     "output_type": "execute_result"
    }
   ],
   "source": [
    "rho = c2qa.util.trace_out_qubits(circuit,stateop)\n",
    "fidelity(Qobj(rho,dims=rho_nu.dims),rho_nu)"
   ]
  }
 ],
 "metadata": {
  "kernelspec": {
   "display_name": "Python [conda env:quantum] *",
   "language": "python",
   "name": "conda-env-quantum-py"
  },
  "language_info": {
   "codemirror_mode": {
    "name": "ipython",
    "version": 3
   },
   "file_extension": ".py",
   "mimetype": "text/x-python",
   "name": "python",
   "nbconvert_exporter": "python",
   "pygments_lexer": "ipython3",
   "version": "3.9.19"
  }
 },
 "nbformat": 4,
 "nbformat_minor": 5
}
