{
 "cells": [
  {
   "cell_type": "markdown",
   "id": "1aadbf66",
   "metadata": {},
   "source": [
    "# 0. Preparations"
   ]
  },
  {
   "cell_type": "code",
   "execution_count": 1,
   "id": "cfbada37",
   "metadata": {},
   "outputs": [
    {
     "name": "stderr",
     "output_type": "stream",
     "text": [
      "/Users/RichardLi/anaconda3/envs/qutip-env/lib/python3.9/site-packages/scipy/__init__.py:146: UserWarning: A NumPy version >=1.17.3 and <1.25.0 is required for this version of SciPy (detected version 1.26.4\n",
      "  warnings.warn(f\"A NumPy version >={np_minversion} and <{np_maxversion}\"\n"
     ]
    }
   ],
   "source": [
    "# standard dependencies\n",
    "import qutip as qt\n",
    "import numpy as np\n",
    "\n",
    "import matplotlib as mpl\n",
    "from matplotlib import cm\n",
    "import matplotlib.pyplot as plt\n",
    "\n",
    "# for creating animations with matplotlib\n",
    "import matplotlib.animation as animation"
   ]
  },
  {
   "cell_type": "code",
   "execution_count": 2,
   "id": "6405f07d",
   "metadata": {},
   "outputs": [],
   "source": [
    "# all values in this cell apply to entire notebook unless otherwise specified \n",
    "\n",
    "# basic variables\n",
    "N = 400\n",
    "a = qt.destroy(N)\n",
    "x = 1/2*(a+a.dag())\n",
    "p = -1j/2*(a-a.dag())\n",
    "\n",
    "# font styles for plots\n",
    "csfont_title = {\"fontname\":\"Times New Roman\", \"size\": 25}\n",
    "csfont_axestitles = {\"fontname\":\"Times New Roman\", \"size\": 20}\n",
    "csfont_axesticks= {\"fontname\":\"Times New Roman\", \"size\": 18}\n",
    "csfont_colorbar = {\"fontname\":\"Times New Roman\", \"size\": 18}\n",
    "\n",
    "\n",
    "# use latex and times new roman for plots\n",
    "# plt.rcParams.update({\n",
    "#    \"text.usetex\": True,\n",
    "#     \"text.latex.preamble\": [r\"\\usepackage{amsmath}\"],\n",
    "# \"mathtext.fontset\": \"cm\",\n",
    "#    \"font.serif\": \"Times New Roman\",\n",
    "# })"
   ]
  },
  {
   "cell_type": "code",
   "execution_count": 3,
   "id": "4a3b5a30",
   "metadata": {},
   "outputs": [],
   "source": [
    "# set figure quality\n",
    "# may need to run this cell again if figures aren't good quality\n",
    "mpl.rcParams.update({\n",
    "    \"figure.dpi\": 1000\n",
    "})"
   ]
  },
  {
   "cell_type": "code",
   "execution_count": 4,
   "id": "68f8c283",
   "metadata": {},
   "outputs": [],
   "source": [
    "mpl.rcParams.update({\n",
    "    \"figure.dpi\": 1000\n",
    "})"
   ]
  },
  {
   "cell_type": "markdown",
   "id": "191eb85c",
   "metadata": {},
   "source": [
    "# Big-Small-Small cat state preparation"
   ]
  },
  {
   "cell_type": "markdown",
   "id": "2549f467",
   "metadata": {},
   "source": [
    "# $\\hat{U}_1(\\alpha) = e^{-i\\alpha \\left(2\\hat{p}\\right) \\otimes \\hat{\\sigma}_x}$\n",
    "\n",
    "# $\\hat{U}_2(\\alpha)= e^{-i\\left(\\frac{\\hat{x}}{\\alpha}\\right) \\otimes \\left(\\frac{\\left(\\frac{-\\pi}{2}\\right)}{2}\\right) \\hat{\\sigma}_y} = e^{+i\\left(\\frac{\\pi}{8\\alpha}\\right) \\left( 2\\hat{x} \\right) \\otimes \\hat{\\sigma}_y}$\n",
    "# $\\hat{U}_3 = e^{-i\\epsilon(2\\hat{p}) \\otimes \\hat{\\sigma}_x} = e^{-i\\left(\\frac{\\pi}{8 \\alpha}\\right)\\left(2\\hat{p}\\right) \\otimes \\hat{\\sigma}_x}$\n",
    "- $\\epsilon \\equiv \\frac{\\pi}{8\\alpha}$"
   ]
  },
  {
   "cell_type": "code",
   "execution_count": 5,
   "id": "3b035b8f",
   "metadata": {},
   "outputs": [],
   "source": [
    "def U1_BSS(alpha):\n",
    "    return qt.tensor(-1j*alpha*(2*p), qt.sigmax()).expm()\n",
    "    \n",
    "def U2_BSS(alpha):\n",
    "    return qt.tensor(1j*(np.pi/(8*alpha))*(2*x), qt.sigmay()).expm()\n",
    "\n",
    "def U3_BSS(alpha):\n",
    "    return qt.tensor(-1j*(np.pi/(8*alpha))*(2*p), qt.sigmax()).expm()"
   ]
  },
  {
   "cell_type": "markdown",
   "id": "7f084359",
   "metadata": {},
   "source": [
    "# 6.  Performance of preparing $|CS(\\alpha)\\rangle$ for $\\alpha \\in [0, 8]$"
   ]
  },
  {
   "cell_type": "code",
   "execution_count": 6,
   "id": "e4a4a4cc",
   "metadata": {},
   "outputs": [],
   "source": [
    "def bigsmallsmall_prep(alpha):\n",
    "    \n",
    "    # define initial state\n",
    "    psi_0 = qt.tensor(qt.coherent(N, 0), qt.basis(2,0))\n",
    "    \n",
    "    # use protocol to get final state\n",
    "    psi_3 = U3_BSS(alpha) * U2_BSS(alpha) * U1_BSS(alpha) * psi_0\n",
    "    \n",
    "    return psi_3"
   ]
  },
  {
   "cell_type": "code",
   "execution_count": 7,
   "id": "cfa5782f",
   "metadata": {},
   "outputs": [],
   "source": [
    "def bigsmallsmall_prep_fidelity(alpha):\n",
    "    \n",
    "    target = qt.tensor(qt.coherent(N, alpha) + qt.coherent(N, -alpha), qt.basis(2,0)).unit()\n",
    "    psi_3 = bigsmallsmall_prep(alpha)\n",
    "    \n",
    "    return qt.fidelity(target, psi_3)"
   ]
  },
  {
   "cell_type": "code",
   "execution_count": 8,
   "id": "0a7492f1",
   "metadata": {
    "scrolled": true
   },
   "outputs": [],
   "source": [
    "alpha_array = np.arange(start=1, stop=10, step=0.2)\n",
    "fidelity_array = []\n",
    "\n",
    "for alpha in alpha_array:\n",
    "    \n",
    "    fidelity = bigsmallsmall_prep_fidelity(alpha)\n",
    "    fidelity_array.append(fidelity)"
   ]
  },
  {
   "cell_type": "code",
   "execution_count": 9,
   "id": "a7c39ff5",
   "metadata": {},
   "outputs": [
    {
     "data": {
      "image/png": "[encoded data removed]",
      "text/plain": [
       "<Figure size 432x432 with 1 Axes>"
      ]
     },
     "metadata": {
      "needs_background": "light"
     },
     "output_type": "display_data"
    }
   ],
   "source": [
    "fig, ax = plt.subplots(1, 1, figsize=(6, 6))\n",
    "ax.scatter(alpha_array, 1 - np.array(fidelity_array),\n",
    "           s=10, c=\"red\")\n",
    "ax.set_yscale(\"log\")\n",
    "ax.set_xlabel(r\"$\\alpha$\", rotation=0, **csfont_axestitles)\n",
    "ax.set_xticks(np.arange(start=1, stop=11, step=1)) \n",
    "ax.set_ylabel(r\"$1 - F$\", \n",
    "              rotation=0, \n",
    "              **csfont_axestitles,\n",
    "              labelpad=30)\n",
    "\n",
    "plt.show()"
   ]
  },
  {
   "cell_type": "markdown",
   "id": "4c45d39b",
   "metadata": {},
   "source": [
    "# Big-Small-Small cat state amplification"
   ]
  },
  {
   "cell_type": "markdown",
   "id": "e641a361",
   "metadata": {},
   "source": [
    "# 9. Performance of amplifications $|CS(\\alpha)\\rangle \\rightarrow |CS(\\alpha+\\Delta) \\rangle$  where $\\alpha \\in [1, 6]$ and  $\\Delta = \\alpha$"
   ]
  },
  {
   "cell_type": "code",
   "execution_count": 10,
   "id": "330a096c",
   "metadata": {},
   "outputs": [],
   "source": [
    "# define infidelity function for Big-Small-Small\n",
    "def BSS_amp_infidelity(alpha, Delta):\n",
    "    \n",
    "        # define target state\n",
    "        target_state = qt.tensor(qt.coherent(N, alpha+Delta) + qt.coherent(N, -(alpha+Delta)), qt.basis(2,0)).unit()\n",
    "     \n",
    "        # prepare hybrid system\n",
    "        qubit_init = qt.basis(2, 0)\n",
    "        oscillator_init = qt.coherent(N, alpha) + qt.coherent(N, -alpha)\n",
    "        psi_0 = qt.tensor(oscillator_init, qubit_init).unit()\n",
    "\n",
    "        # first step\n",
    "        psi_1 = U3_BSS(alpha).dag() * psi_0\n",
    "\n",
    "        # second step\n",
    "        psi_2 = U2_BSS(alpha).dag() * psi_1\n",
    "\n",
    "        # third step\n",
    "        psi_3 = U1_BSS(Delta) * psi_2\n",
    "\n",
    "        # fourth step\n",
    "        psi_4 = U2_BSS(alpha+Delta) * psi_3\n",
    "\n",
    "        # fifth step\n",
    "        psi_5 = U3_BSS(alpha+Delta) * psi_4\n",
    "        \n",
    "        # get infidelity\n",
    "        return 1-qt.fidelity(psi_5, target_state)"
   ]
  },
  {
   "cell_type": "code",
   "execution_count": 11,
   "id": "d5b54d6d",
   "metadata": {},
   "outputs": [],
   "source": [
    "# create meshgrid to evaluate fidelity F(alpha, Delta)\n",
    "alpha_array = np.linspace(start=1, stop=5, num=50)"
   ]
  },
  {
   "cell_type": "code",
   "execution_count": 12,
   "id": "cecd061c",
   "metadata": {},
   "outputs": [],
   "source": [
    "# evaluate all infidelities\n",
    "BSS_amp_infidelities_array= []\n",
    "\n",
    "for alpha in alpha_array:\n",
    "    \n",
    "    infidelity = BSS_amp_infidelity(alpha, alpha)\n",
    "    BSS_amp_infidelities_array.append(infidelity)"
   ]
  },
  {
   "cell_type": "code",
   "execution_count": 13,
   "id": "47ab14c2",
   "metadata": {
    "scrolled": false
   },
   "outputs": [
    {
     "name": "stderr",
     "output_type": "stream",
     "text": [
      "WARNING:matplotlib.legend:No artists with labels found to put in legend.  Note that artists whose label start with an underscore are ignored when legend() is called with no argument.\n"
     ]
    },
    {
     "data": {
      "image/png": "[encoded data removed]",
      "text/plain": [
       "<Figure size 576x432 with 1 Axes>"
      ]
     },
     "metadata": {
      "needs_background": "light"
     },
     "output_type": "display_data"
    }
   ],
   "source": [
    "# Create a figure and axis\n",
    "fig, ax = plt.subplots(1, 1, figsize=(8, 6))\n",
    "\n",
    "# Scatter plots\n",
    "ax.scatter(alpha_array, BSS_amp_infidelities_array,\n",
    "           s=20, c=\"blue\")\n",
    "\n",
    "# Legend font properties\n",
    "font = mpl.font_manager.FontProperties()\n",
    "font.set_family('serif')\n",
    "font.set_name('Times New Roman')\n",
    "\n",
    "# Legend\n",
    "legend = ax.legend(prop=font)\n",
    "legend.set_title(None)  # Remove legend title\n",
    "plt.setp(legend.get_texts(), fontsize=30)\n",
    "\n",
    "# Set y-axis to log scale\n",
    "ax.set_yscale(\"log\")\n",
    "\n",
    "# Set x-axis and y-axis labels\n",
    "csfont_axestitles = {'fontsize': 30, 'fontweight': 'bold'}\n",
    "ax.set_xlabel(r\"$\\delta=\\alpha$\", rotation=0, **csfont_axestitles)\n",
    "ax.set_ylabel(r\"$1 - F$\", rotation=0, **csfont_axestitles, labelpad=50)\n",
    "\n",
    "# Adjust tick label font sizes\n",
    "ax.tick_params(axis='x', labelsize=20)  # Adjust x-axis tick label size\n",
    "ax.tick_params(axis='y', labelsize=20)  # Adjust y-axis tick label size\n",
    "\n",
    "plt.show()"
   ]
  },
  {
   "cell_type": "markdown",
   "id": "924a0875",
   "metadata": {},
   "source": [
    "# 10.  $\\widehat{BB1}_{y,\\theta'}(\\theta)$ unconditional"
   ]
  },
  {
   "cell_type": "code",
   "execution_count": 14,
   "id": "df5c6c7f",
   "metadata": {},
   "outputs": [],
   "source": [
    "phi_1 = (0.5 - 0.539893088) * np.pi\n",
    "phi_2 = (0.5 - 1.61967926) * np.pi"
   ]
  },
  {
   "cell_type": "markdown",
   "id": "255783ed",
   "metadata": {},
   "source": [
    "# 11.  $\\widehat{BB1}_{y,\\theta'}(\\theta)$ cat state preparation"
   ]
  },
  {
   "cell_type": "code",
   "execution_count": 15,
   "id": "9dde52ae",
   "metadata": {},
   "outputs": [],
   "source": [
    "theta_nom = np.pi/2 \n",
    "\n",
    "def BB1(alpha):\n",
    "    \n",
    "    theta = -np.pi/(2*alpha)\n",
    "    \n",
    "    # prepare rotations\n",
    "    R_3 = qt.tensor(x, -1j*(2*theta)/2 *(np.cos(phi_1)*qt.sigmax() + np.sin(phi_1)*qt.sigmay())).expm()\n",
    "    R_2 = qt.tensor(x, -1j*(4*theta)/2 *(np.cos(phi_2)*qt.sigmax() + np.sin(phi_2)*qt.sigmay())).expm()\n",
    "    R_1 = qt.tensor(x, -1j*(2*theta)/2 *(np.cos(phi_1)*qt.sigmax() + np.sin(phi_1)*qt.sigmay())).expm()\n",
    "    R_0 = qt.tensor(x, (-1j*(theta)/2 *(qt.sigmay()))).expm()\n",
    "    \n",
    "    return R_3*R_2*R_1*R_0"
   ]
  },
  {
   "cell_type": "markdown",
   "id": "91b0115c",
   "metadata": {},
   "source": [
    "# Test over different $\\alpha$ and compare to Big-Small-Small"
   ]
  },
  {
   "cell_type": "code",
   "execution_count": 16,
   "id": "90f8a293",
   "metadata": {},
   "outputs": [],
   "source": [
    "def bb1_prep(alpha):\n",
    "    \n",
    "    # define initial state\n",
    "    psi_0 = qt.tensor(qt.coherent(N, 0), qt.basis(2,0))\n",
    "    \n",
    "    # use protocol to get final state\n",
    "    psi_2 = BB1(alpha) *  U1_BSS(alpha) * psi_0\n",
    "    \n",
    "    return psi_2\n",
    "\n",
    "def bb1_prep_fidelity(alpha):\n",
    "    \n",
    "    target = qt.tensor(qt.coherent(N, alpha) + qt.coherent(N, -alpha), qt.basis(2,0)).unit()\n",
    "    psi_2 = bb1_prep(alpha)\n",
    "    \n",
    "    return qt.fidelity(target, psi_2)"
   ]
  },
  {
   "cell_type": "code",
   "execution_count": 17,
   "id": "b3c3acdb",
   "metadata": {},
   "outputs": [],
   "source": [
    "alpha_array = np.arange(start=1, stop=10, step=0.2)\n",
    "bb1_fidelity_array = []\n",
    "bss_fidelity_array = []\n",
    "\n",
    "for alpha in alpha_array:\n",
    "    bb1_fidelity = bb1_prep_fidelity(alpha)\n",
    "    bb1_fidelity_array.append(bb1_fidelity)\n",
    "\n",
    "for alpha in alpha_array:\n",
    "    bss_fidelity = bigsmallsmall_prep_fidelity(alpha)\n",
    "    bss_fidelity_array.append(bss_fidelity)"
   ]
  },
  {
   "cell_type": "code",
   "execution_count": 18,
   "id": "c9d659e9",
   "metadata": {
    "scrolled": false
   },
   "outputs": [
    {
     "data": {
      "image/png": "[encoded data removed]",
      "text/plain": [
       "<Figure size 576x432 with 1 Axes>"
      ]
     },
     "metadata": {
      "needs_background": "light"
     },
     "output_type": "display_data"
    }
   ],
   "source": [
    "# Create a figure and axis\n",
    "fig, ax = plt.subplots(1, 1, figsize=(8, 6))\n",
    "\n",
    "# Scatter plots\n",
    "ax.scatter(alpha_array, 1 - np.array(bss_fidelity_array),\n",
    "           s=20, c=\"blue\", label=\"Non-Abelian QSP\", marker=\"s\")\n",
    "ax.scatter(alpha_array, 1 - np.array(bb1_fidelity_array),\n",
    "           s=20, c=\"red\", label=\"BB1(90)\")\n",
    "\n",
    "# Legend font properties\n",
    "font = mpl.font_manager.FontProperties()\n",
    "font.set_family('serif')\n",
    "font.set_name('Times New Roman')\n",
    "\n",
    "# Legend\n",
    "legend = ax.legend(prop=font)\n",
    "legend.set_title(None)  # Remove legend title\n",
    "plt.setp(legend.get_texts(), fontsize=30)\n",
    "\n",
    "# Set y-axis to log scale\n",
    "ax.set_yscale(\"log\")\n",
    "\n",
    "# Set x-axis and y-axis labels\n",
    "csfont_axestitles = {'fontsize': 30, 'fontweight': 'bold'}\n",
    "ax.set_xlabel(r\"$\\alpha$\", rotation=0, **csfont_axestitles)\n",
    "ax.set_ylabel(r\"$1 - F$\", rotation=0, **csfont_axestitles, labelpad=50)\n",
    "\n",
    "# Adjust tick label font sizes\n",
    "ax.tick_params(axis='x', labelsize=20)  # Adjust x-axis tick label size\n",
    "ax.tick_params(axis='y', labelsize=20)  # Adjust y-axis tick label size\n",
    "\n",
    "plt.show()"
   ]
  },
  {
   "cell_type": "markdown",
   "id": "c8bf4ab2",
   "metadata": {},
   "source": [
    "# 12.  $\\widehat{BB1}_{y,\\theta'}(\\theta)$ cat state amplification"
   ]
  },
  {
   "cell_type": "code",
   "execution_count": 19,
   "id": "5d4ceb86",
   "metadata": {},
   "outputs": [],
   "source": [
    "# define infidelity function for BB1\n",
    "def BB1_amp_infidelity(alpha, Delta):\n",
    "    \n",
    "        # define target state\n",
    "        target_state = qt.tensor(qt.coherent(N, alpha+Delta) + qt.coherent(N, -(alpha+Delta)), qt.basis(2,0)).unit()\n",
    "     \n",
    "        # prepare hybrid state\n",
    "        qubit_init = qt.basis(2, 0)\n",
    "        oscillator_init = qt.coherent(N, alpha) + qt.coherent(N, -alpha)\n",
    "        psi_0 = qt.tensor(oscillator_init, qubit_init).unit()\n",
    "\n",
    "        # first step\n",
    "        psi_1 = BB1(alpha).dag() * psi_0\n",
    "\n",
    "        # third step\n",
    "        psi_2 = U1_BSS(Delta) * psi_1\n",
    "\n",
    "        # third step\n",
    "        psi_3 = BB1(alpha+Delta) * psi_2\n",
    "        \n",
    "        # get infidelity\n",
    "        return 1-qt.fidelity(psi_3, target_state)\n",
    "    \n",
    "vectorized_bb1_amp_infidelity = np.vectorize(BB1_amp_infidelity)"
   ]
  },
  {
   "cell_type": "code",
   "execution_count": 20,
   "id": "159099fc",
   "metadata": {},
   "outputs": [],
   "source": [
    "# create meshgrid to evaluate fidelity F(alpha, Delta)\n",
    "alpha_array = np.linspace(start=1, stop=5, num=50)"
   ]
  },
  {
   "cell_type": "code",
   "execution_count": 21,
   "id": "0a8f6be1",
   "metadata": {},
   "outputs": [],
   "source": [
    "# evaluate all infidelities\n",
    "BB1_amp_infidelities_array= []\n",
    "\n",
    "for alpha in alpha_array:\n",
    "    \n",
    "    infidelity = BB1_amp_infidelity(alpha, alpha)\n",
    "    BB1_amp_infidelities_array.append(infidelity)"
   ]
  },
  {
   "cell_type": "code",
   "execution_count": 22,
   "id": "d88710f9",
   "metadata": {
    "scrolled": false
   },
   "outputs": [
    {
     "data": {
      "image/png": "[encoded data removed]",
      "text/plain": [
       "<Figure size 576x432 with 1 Axes>"
      ]
     },
     "metadata": {
      "needs_background": "light"
     },
     "output_type": "display_data"
    }
   ],
   "source": [
    "# plot these results side-by-side with those from BSS\n",
    "\n",
    "# Create a figure and axis\n",
    "fig, ax = plt.subplots(1, 1, figsize=(8, 6))\n",
    "\n",
    "# Scatter plots\n",
    "ax.scatter(alpha_array, BSS_amp_infidelities_array,\n",
    "           s=20, c=\"blue\", label=\"Non-Abelian QSP\", marker=\"s\")\n",
    "ax.scatter(alpha_array, BB1_amp_infidelities_array,\n",
    "           s=20, c=\"red\", label=\"BB1(90)\")\n",
    "\n",
    "# Legend font properties\n",
    "font = mpl.font_manager.FontProperties()\n",
    "font.set_family('serif')\n",
    "font.set_name('Times New Roman')\n",
    "\n",
    "# Legend\n",
    "legend = ax.legend(prop=font)\n",
    "legend.set_title(None)  # Remove legend title\n",
    "plt.setp(legend.get_texts(), fontsize=30)\n",
    "\n",
    "# Set y-axis to log scale\n",
    "ax.set_yscale(\"log\")\n",
    "\n",
    "# Set x-axis and y-axis labels\n",
    "csfont_axestitles = {'fontsize': 30, 'fontweight': 'bold'}\n",
    "ax.set_xlabel(r\"$\\delta=\\alpha$\", rotation=0, **csfont_axestitles)\n",
    "ax.set_ylabel(r\"$1 - F$\", rotation=0, **csfont_axestitles, labelpad=50)\n",
    "\n",
    "# Adjust tick label font sizes\n",
    "ax.tick_params(axis='x', labelsize=20)  # Adjust x-axis tick label size\n",
    "ax.tick_params(axis='y', labelsize=20)  # Adjust y-axis tick label size\n",
    "\n",
    "plt.show()"
   ]
  },
  {
   "cell_type": "code",
   "execution_count": null,
   "id": "e43b7e53",
   "metadata": {},
   "outputs": [],
   "source": []
  }
 ],
 "metadata": {
  "kernelspec": {
   "display_name": "Python 3 (ipykernel)",
   "language": "python",
   "name": "python3"
  },
  "language_info": {
   "codemirror_mode": {
    "name": "ipython",
    "version": 3
   },
   "file_extension": ".py",
   "mimetype": "text/x-python",
   "name": "python",
   "nbconvert_exporter": "python",
   "pygments_lexer": "ipython3",
   "version": "3.9.6"
  }
 },
 "nbformat": 4,
 "nbformat_minor": 5
}
